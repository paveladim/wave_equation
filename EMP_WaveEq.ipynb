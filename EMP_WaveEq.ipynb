{
  "nbformat": 4,
  "nbformat_minor": 0,
  "metadata": {
    "colab": {
      "name": "EMP-WaveEq.ipynb",
      "provenance": [],
      "authorship_tag": "ABX9TyPli60fq2d4OusOOYU3AZHt"
    },
    "kernelspec": {
      "name": "python3",
      "display_name": "Python 3"
    },
    "language_info": {
      "name": "python"
    },
    "widgets": {
      "application/vnd.jupyter.widget-state+json": {
        "1dfea7ecc4c54070925fab0a1cf49a95": {
          "model_module": "@jupyter-widgets/controls",
          "model_name": "VBoxModel",
          "model_module_version": "1.5.0",
          "state": {
            "_view_name": "VBoxView",
            "_dom_classes": [
              "widget-interact"
            ],
            "_model_name": "VBoxModel",
            "_view_module": "@jupyter-widgets/controls",
            "_model_module_version": "1.5.0",
            "_view_count": null,
            "_view_module_version": "1.5.0",
            "box_style": "",
            "layout": "IPY_MODEL_1b288e0d7a164f4083127a12c26367fa",
            "_model_module": "@jupyter-widgets/controls",
            "children": [
              "IPY_MODEL_279fb90b64164feb9254baca7b8f0316",
              "IPY_MODEL_8250c2d2969146629ee8e2433e21dc02"
            ]
          }
        },
        "1b288e0d7a164f4083127a12c26367fa": {
          "model_module": "@jupyter-widgets/base",
          "model_name": "LayoutModel",
          "model_module_version": "1.2.0",
          "state": {
            "_view_name": "LayoutView",
            "grid_template_rows": null,
            "right": null,
            "justify_content": null,
            "_view_module": "@jupyter-widgets/base",
            "overflow": null,
            "_model_module_version": "1.2.0",
            "_view_count": null,
            "flex_flow": null,
            "width": null,
            "min_width": null,
            "border": null,
            "align_items": null,
            "bottom": null,
            "_model_module": "@jupyter-widgets/base",
            "top": null,
            "grid_column": null,
            "overflow_y": null,
            "overflow_x": null,
            "grid_auto_flow": null,
            "grid_area": null,
            "grid_template_columns": null,
            "flex": null,
            "_model_name": "LayoutModel",
            "justify_items": null,
            "grid_row": null,
            "max_height": null,
            "align_content": null,
            "visibility": null,
            "align_self": null,
            "height": null,
            "min_height": null,
            "padding": null,
            "grid_auto_rows": null,
            "grid_gap": null,
            "max_width": null,
            "order": null,
            "_view_module_version": "1.2.0",
            "grid_template_areas": null,
            "object_position": null,
            "object_fit": null,
            "grid_auto_columns": null,
            "margin": null,
            "display": null,
            "left": null
          }
        },
        "279fb90b64164feb9254baca7b8f0316": {
          "model_module": "@jupyter-widgets/controls",
          "model_name": "FloatSliderModel",
          "model_module_version": "1.5.0",
          "state": {
            "_view_name": "FloatSliderView",
            "style": "IPY_MODEL_b7476beb26bc400f894d94ad14fac943",
            "_dom_classes": [],
            "description": "t",
            "step": 0.005,
            "_model_name": "FloatSliderModel",
            "orientation": "horizontal",
            "max": 10,
            "_view_module": "@jupyter-widgets/controls",
            "_model_module_version": "1.5.0",
            "value": 0,
            "_view_count": null,
            "disabled": false,
            "_view_module_version": "1.5.0",
            "min": 0,
            "continuous_update": true,
            "readout_format": ".2f",
            "description_tooltip": null,
            "readout": true,
            "_model_module": "@jupyter-widgets/controls",
            "layout": "IPY_MODEL_525c63b379494f5a92a7c7e595d49ed8"
          }
        },
        "8250c2d2969146629ee8e2433e21dc02": {
          "model_module": "@jupyter-widgets/output",
          "model_name": "OutputModel",
          "model_module_version": "1.0.0",
          "state": {
            "_view_name": "OutputView",
            "msg_id": "",
            "_dom_classes": [],
            "_model_name": "OutputModel",
            "outputs": [
              {
                "output_type": "display_data",
                "data": {
                  "image/png": "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\n",
                  "text/plain": "<Figure size 432x288 with 1 Axes>"
                },
                "metadata": {
                  "needs_background": "light"
                }
              }
            ],
            "_view_module": "@jupyter-widgets/output",
            "_model_module_version": "1.0.0",
            "_view_count": null,
            "_view_module_version": "1.0.0",
            "layout": "IPY_MODEL_e7e4b8663449443aad42a2d82702e69a",
            "_model_module": "@jupyter-widgets/output"
          }
        },
        "b7476beb26bc400f894d94ad14fac943": {
          "model_module": "@jupyter-widgets/controls",
          "model_name": "SliderStyleModel",
          "model_module_version": "1.5.0",
          "state": {
            "_view_name": "StyleView",
            "handle_color": null,
            "_model_name": "SliderStyleModel",
            "description_width": "",
            "_view_module": "@jupyter-widgets/base",
            "_model_module_version": "1.5.0",
            "_view_count": null,
            "_view_module_version": "1.2.0",
            "_model_module": "@jupyter-widgets/controls"
          }
        },
        "525c63b379494f5a92a7c7e595d49ed8": {
          "model_module": "@jupyter-widgets/base",
          "model_name": "LayoutModel",
          "model_module_version": "1.2.0",
          "state": {
            "_view_name": "LayoutView",
            "grid_template_rows": null,
            "right": null,
            "justify_content": null,
            "_view_module": "@jupyter-widgets/base",
            "overflow": null,
            "_model_module_version": "1.2.0",
            "_view_count": null,
            "flex_flow": null,
            "width": null,
            "min_width": null,
            "border": null,
            "align_items": null,
            "bottom": null,
            "_model_module": "@jupyter-widgets/base",
            "top": null,
            "grid_column": null,
            "overflow_y": null,
            "overflow_x": null,
            "grid_auto_flow": null,
            "grid_area": null,
            "grid_template_columns": null,
            "flex": null,
            "_model_name": "LayoutModel",
            "justify_items": null,
            "grid_row": null,
            "max_height": null,
            "align_content": null,
            "visibility": null,
            "align_self": null,
            "height": null,
            "min_height": null,
            "padding": null,
            "grid_auto_rows": null,
            "grid_gap": null,
            "max_width": null,
            "order": null,
            "_view_module_version": "1.2.0",
            "grid_template_areas": null,
            "object_position": null,
            "object_fit": null,
            "grid_auto_columns": null,
            "margin": null,
            "display": null,
            "left": null
          }
        },
        "e7e4b8663449443aad42a2d82702e69a": {
          "model_module": "@jupyter-widgets/base",
          "model_name": "LayoutModel",
          "model_module_version": "1.2.0",
          "state": {
            "_view_name": "LayoutView",
            "grid_template_rows": null,
            "right": null,
            "justify_content": null,
            "_view_module": "@jupyter-widgets/base",
            "overflow": null,
            "_model_module_version": "1.2.0",
            "_view_count": null,
            "flex_flow": null,
            "width": null,
            "min_width": null,
            "border": null,
            "align_items": null,
            "bottom": null,
            "_model_module": "@jupyter-widgets/base",
            "top": null,
            "grid_column": null,
            "overflow_y": null,
            "overflow_x": null,
            "grid_auto_flow": null,
            "grid_area": null,
            "grid_template_columns": null,
            "flex": null,
            "_model_name": "LayoutModel",
            "justify_items": null,
            "grid_row": null,
            "max_height": null,
            "align_content": null,
            "visibility": null,
            "align_self": null,
            "height": null,
            "min_height": null,
            "padding": null,
            "grid_auto_rows": null,
            "grid_gap": null,
            "max_width": null,
            "order": null,
            "_view_module_version": "1.2.0",
            "grid_template_areas": null,
            "object_position": null,
            "object_fit": null,
            "grid_auto_columns": null,
            "margin": null,
            "display": null,
            "left": null
          }
        }
      }
    }
  },
  "cells": [
    {
      "cell_type": "code",
      "metadata": {
        "id": "dnRyxNTMD0AF"
      },
      "source": [
        "import matplotlib.pyplot as plt\n",
        "import numpy as np\n",
        "from ipywidgets import interact"
      ],
      "execution_count": 24,
      "outputs": []
    },
    {
      "cell_type": "code",
      "metadata": {
        "id": "4A4ZkIU4EKJF"
      },
      "source": [
        "def phi(s):\n",
        "  if (-1 <= s <= 1): return 3.0\n",
        "  else: return 0.0"
      ],
      "execution_count": 25,
      "outputs": []
    },
    {
      "cell_type": "code",
      "metadata": {
        "id": "fsFdPeO9EywD"
      },
      "source": [
        "def Psi(s):\n",
        "  if (s <= -1): return 0.0\n",
        "  elif (-1 < s <= 0): return (s + 1) ** 2\n",
        "  elif (0 < s <= 2): return 3 - 0.5 * (s - 2) ** 2\n",
        "  else: return 3.0"
      ],
      "execution_count": 26,
      "outputs": []
    },
    {
      "cell_type": "code",
      "metadata": {
        "id": "7XVjW9k_FQok"
      },
      "source": [
        "x = np.linspace(-15, 15, 1000)"
      ],
      "execution_count": 27,
      "outputs": []
    },
    {
      "cell_type": "code",
      "metadata": {
        "id": "Cs33VR0yFYgj"
      },
      "source": [
        "def u(s, t):\n",
        "  return 0.5 * (phi(s - t) + phi(s + t)) + 0.5 * (Psi(s + t) - Psi(s - t))"
      ],
      "execution_count": 28,
      "outputs": []
    },
    {
      "cell_type": "code",
      "metadata": {
        "id": "Ot6t1uzTGCff"
      },
      "source": [
        "def interact_graph(t):\n",
        "  fx = []\n",
        "  for i in range(len(x)):\n",
        "    fx.append(u(x[i],t))\n",
        "\n",
        "  plt.plot(x, fx, color = 'teal')"
      ],
      "execution_count": 29,
      "outputs": []
    },
    {
      "cell_type": "code",
      "metadata": {
        "colab": {
          "base_uri": "https://localhost:8080/",
          "height": 314,
          "referenced_widgets": [
            "1dfea7ecc4c54070925fab0a1cf49a95",
            "1b288e0d7a164f4083127a12c26367fa",
            "279fb90b64164feb9254baca7b8f0316",
            "8250c2d2969146629ee8e2433e21dc02",
            "b7476beb26bc400f894d94ad14fac943",
            "525c63b379494f5a92a7c7e595d49ed8",
            "e7e4b8663449443aad42a2d82702e69a"
          ]
        },
        "id": "lPSmZ4ZNF4oW",
        "outputId": "340074a2-57ff-4165-df5e-666b29e4b30c"
      },
      "source": [
        "interact(interact_graph, t = (0, 10, 0.005))"
      ],
      "execution_count": 32,
      "outputs": [
        {
          "output_type": "display_data",
          "data": {
            "application/vnd.jupyter.widget-view+json": {
              "model_id": "1dfea7ecc4c54070925fab0a1cf49a95",
              "version_minor": 0,
              "version_major": 2
            },
            "text/plain": [
              "interactive(children=(FloatSlider(value=5.0, description='t', max=10.0, step=0.005), Output()), _dom_classes=(…"
            ]
          },
          "metadata": {}
        },
        {
          "output_type": "execute_result",
          "data": {
            "text/plain": [
              "<function __main__.interact_graph>"
            ]
          },
          "metadata": {},
          "execution_count": 32
        }
      ]
    }
  ]
}